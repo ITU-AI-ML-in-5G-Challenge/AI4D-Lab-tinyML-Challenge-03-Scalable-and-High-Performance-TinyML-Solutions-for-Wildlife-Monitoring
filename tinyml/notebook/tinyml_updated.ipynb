{
 "cells": [
  {
   "cell_type": "code",
   "execution_count": 1,
   "id": "97b79489",
   "metadata": {
    "id": "97b79489"
   },
   "outputs": [],
   "source": [
    "import os\n",
    "\n",
    "# Enable MPS for the Python process\n",
    "os.environ['TF_MPS'] = '1'"
   ]
  },
  {
   "cell_type": "code",
   "execution_count": 2,
   "id": "27863080",
   "metadata": {
    "id": "27863080",
    "scrolled": false
   },
   "outputs": [],
   "source": [
    "import numpy as np\n",
    "import tensorflow as tf\n",
    "from tensorflow.keras.preprocessing.image import ImageDataGenerator\n",
    "from tensorflow.keras.applications import InceptionV3\n",
    "from tensorflow.keras import layers, Model\n",
    "from sklearn.model_selection import train_test_split\n",
    "from matplotlib import pyplot as plt\n",
    "import seaborn\n",
    "from sklearn.metrics import f1_score, classification_report,confusion_matrix\n",
    "import uuid\n",
    "from carbontracker.tracker import CarbonTracker\n",
    "from codecarbon import track_emissions"
   ]
  },
  {
   "cell_type": "code",
   "execution_count": 3,
   "id": "DSFbEBOI4Q2U",
   "metadata": {
    "colab": {
     "base_uri": "https://localhost:8080/"
    },
    "id": "DSFbEBOI4Q2U",
    "outputId": "43b6a9fd-3432-482c-d9c3-717ebfde257f"
   },
   "outputs": [],
   "source": [
    "# Define data directories\n",
    "data_dir = '../data/'  "
   ]
  },
  {
   "cell_type": "code",
   "execution_count": 4,
   "id": "be6f68d8",
   "metadata": {
    "id": "be6f68d8"
   },
   "outputs": [],
   "source": [
    "# Define the class names\n",
    "class_names = ['buffalo','eland', 'elephant','giraffe','hyaenabrown','impala','leopard','lion','rhino', 'zebra']"
   ]
  },
  {
   "cell_type": "code",
   "execution_count": 5,
   "id": "GIqGU19jaUDK",
   "metadata": {
    "colab": {
     "base_uri": "https://localhost:8080/"
    },
    "id": "GIqGU19jaUDK",
    "outputId": "24bf1cd9-e96b-4c64-e6cc-3f5c42047e63"
   },
   "outputs": [
    {
     "name": "stdout",
     "output_type": "stream",
     "text": [
      "Found 56446 images belonging to 10 classes.\n",
      "Found 14106 images belonging to 10 classes.\n"
     ]
    }
   ],
   "source": [
    "# Define data augmentation for training images\n",
    "train_datagen = ImageDataGenerator(\n",
    "    rescale=1.0 / 255.0,\n",
    "    rotation_range=20,\n",
    "    width_shift_range=0.2,\n",
    "    height_shift_range=0.2,\n",
    "    horizontal_flip=True,\n",
    "    zoom_range=0.2,\n",
    "    validation_split=0.2,  # Set aside 20% of the data for testing\n",
    ")\n",
    "\n",
    "# Load and preprocess training data\n",
    "train_data = train_datagen.flow_from_directory(\n",
    "    data_dir,\n",
    "    target_size=(299, 299),  # InceptionV3 input size\n",
    "    batch_size=64,\n",
    "    class_mode='categorical',  # or 'binary', depending on your task\n",
    "    classes=class_names,\n",
    "    shuffle=True,\n",
    "    seed=42,\n",
    "    subset='training',  # Specify that this is the training split\n",
    ")\n",
    "\n",
    "# Load and preprocess testing data\n",
    "test_data = train_datagen.flow_from_directory(\n",
    "    data_dir,\n",
    "    target_size=(299, 299),\n",
    "    batch_size=64,\n",
    "    class_mode='categorical',\n",
    "    classes=class_names,\n",
    "    shuffle=False,  # Set to False to keep the order of images\n",
    "    seed=42,\n",
    "    subset='validation',  # Specify that this is the testing split\n",
    ")"
   ]
  },
  {
   "cell_type": "code",
   "execution_count": 6,
   "id": "k5IN4gEA_-M-",
   "metadata": {
    "colab": {
     "base_uri": "https://localhost:8080/"
    },
    "id": "k5IN4gEA_-M-",
    "outputId": "b0947de5-2e31-4ac4-b27a-ead2ca0391c8"
   },
   "outputs": [
    {
     "name": "stdout",
     "output_type": "stream",
     "text": [
      "Training split:\n",
      "Class 'buffalo' has 2590 images.\n",
      "Class 'eland' has 2874 images.\n",
      "Class 'elephant' has 5940 images.\n",
      "Class 'giraffe' has 4499 images.\n",
      "Class 'hyaenabrown' has 2400 images.\n",
      "Class 'impala' has 23615 images.\n",
      "Class 'leopard' has 921 images.\n",
      "Class 'lion' has 785 images.\n",
      "Class 'rhino' has 3258 images.\n",
      "Class 'zebra' has 9564 images.\n",
      "\n",
      "Testing split:\n",
      "Class 'buffalo' has 647 images.\n",
      "Class 'eland' has 718 images.\n",
      "Class 'elephant' has 1485 images.\n",
      "Class 'giraffe' has 1124 images.\n",
      "Class 'hyaenabrown' has 599 images.\n",
      "Class 'impala' has 5903 images.\n",
      "Class 'leopard' has 230 images.\n",
      "Class 'lion' has 196 images.\n",
      "Class 'rhino' has 814 images.\n",
      "Class 'zebra' has 2390 images.\n"
     ]
    }
   ],
   "source": [
    "# Get class indices\n",
    "class_indices = train_data.class_indices\n",
    "\n",
    "# Count the number of images in each class for each split\n",
    "training_count = {class_name: sum(1 for _ in train_data.classes if _ == class_indices[class_name]) for class_name in class_indices}\n",
    "testing_count = {class_name: sum(1 for _ in test_data.classes if _ == class_indices[class_name]) for class_name in class_indices}\n",
    "\n",
    "# Display the counts for each split\n",
    "print(\"Training split:\")\n",
    "for class_name, count in training_count.items():\n",
    "    print(f\"Class '{class_name}' has {count} images.\")\n",
    "\n",
    "print(\"\\nTesting split:\")\n",
    "for class_name, count in testing_count.items():\n",
    "    print(f\"Class '{class_name}' has {count} images.\")"
   ]
  },
  {
   "cell_type": "code",
   "execution_count": 7,
   "id": "87679e88",
   "metadata": {
    "colab": {
     "base_uri": "https://localhost:8080/"
    },
    "id": "87679e88",
    "outputId": "a983ba53-7c64-4260-e8c1-ecd4d9577642",
    "scrolled": false
   },
   "outputs": [],
   "source": [
    "# Create the base model with pre-trained weights (InceptionV3)\n",
    "base_model = InceptionV3(\n",
    "    include_top=False,\n",
    "    weights='imagenet',\n",
    "    input_tensor=None,\n",
    "    input_shape=(299, 299, 3),\n",
    "    pooling='avg',\n",
    "    classifier_activation='softmax',\n",
    ")\n",
    "\n",
    "# Add custom classification layers on top of the base model\n",
    "x = base_model.output\n",
    "x = layers.Dense(128, activation='relu')(x)\n",
    "x = layers.Dropout(0.5)(x)\n",
    "predictions = layers.Dense(len(class_names), activation='softmax')(x)\n",
    "\n",
    "# Create the full model\n",
    "model = Model(inputs=base_model.input, outputs=predictions)\n",
    "\n",
    "# Compile the model\n",
    "model.compile(optimizer='adam', loss='categorical_crossentropy', metrics=['accuracy'])\n",
    "\n",
    "# Train the model\n",
    "num_epochs = 2"
   ]
  },
  {
   "cell_type": "code",
   "execution_count": 8,
   "id": "bee49f4d",
   "metadata": {
    "id": "bee49f4d"
   },
   "outputs": [],
   "source": [
    "# @track_emissions()\n",
    "def training(train_data,epochs,validation_data):\n",
    "    return model.fit(train_data, epochs=num_epochs, validation_data=test_data)"
   ]
  },
  {
   "cell_type": "code",
   "execution_count": 9,
   "id": "fe97edf1",
   "metadata": {
    "colab": {
     "background_save": true,
     "base_uri": "https://localhost:8080/"
    },
    "id": "fe97edf1",
    "outputId": "ff6927cb-33a1-4549-d9a4-f3fb11d42023"
   },
   "outputs": [
    {
     "name": "stdout",
     "output_type": "stream",
     "text": [
      "Epoch 1/2\n",
      "882/882 [==============================] - 13042s 15s/step - loss: 0.5032 - accuracy: 0.8472 - val_loss: 0.7071 - val_accuracy: 0.8109\n",
      "Epoch 2/2\n",
      "882/882 [==============================] - 24351s 28s/step - loss: 0.3203 - accuracy: 0.9033 - val_loss: 1.0974 - val_accuracy: 0.7927\n"
     ]
    }
   ],
   "source": [
    "history = training(train_data=train_data, epochs=num_epochs, validation_data=test_data)"
   ]
  },
  {
   "cell_type": "code",
   "execution_count": 10,
   "id": "8f93f4bd",
   "metadata": {
    "id": "8f93f4bd",
    "outputId": "2e4cebfc-f053-4876-dd95-4fd4454098a8",
    "scrolled": true
   },
   "outputs": [
    {
     "data": {
      "image/png": "[encoded data removed]",
      "text/plain": [
       "<Figure size 1200x500 with 2 Axes>"
      ]
     },
     "metadata": {},
     "output_type": "display_data"
    }
   ],
   "source": [
    "# Get the number of epochs\n",
    "epochs = len(history.history['accuracy'])\n",
    "\n",
    "# Plot training & validation accuracy values\n",
    "plt.figure(figsize=(12, 5))\n",
    "plt.subplot(1, 2, 1)\n",
    "plt.plot(range(1, epochs + 1), history.history['accuracy'])\n",
    "plt.plot(range(1, epochs + 1), history.history['val_accuracy'])\n",
    "plt.title('Model Accuracy')\n",
    "plt.xlabel('Epoch')\n",
    "plt.ylabel('Accuracy')\n",
    "plt.legend(['Train', 'Validation'], loc='upper left')\n",
    "\n",
    "# Plot training & validation loss values\n",
    "plt.subplot(1, 2, 2)\n",
    "plt.plot(range(1, epochs + 1), history.history['loss'])\n",
    "plt.plot(range(1, epochs + 1), history.history['val_loss'])\n",
    "plt.title('Model Loss')\n",
    "plt.xlabel('Epoch')\n",
    "plt.ylabel('Loss')\n",
    "plt.legend(['Train', 'Validation'], loc='upper left')\n",
    "\n",
    "plt.tight_layout()\n",
    "plt.show()"
   ]
  },
  {
   "cell_type": "code",
   "execution_count": 11,
   "id": "015ae5c9",
   "metadata": {
    "id": "015ae5c9",
    "outputId": "9d69602e-1f26-4964-afed-fc441812e075"
   },
   "outputs": [
    {
     "name": "stdout",
     "output_type": "stream",
     "text": [
      "221/221 [==============================] - 622s 3s/step\n",
      "F1 Score : 0.7794642125568227\n"
     ]
    }
   ],
   "source": [
    "# Evaluate the model\n",
    "test_data.reset()\n",
    "y_pred = model.predict(test_data, steps=np.ceil(test_data.samples / 64))\n",
    "y_true = test_data.classes\n",
    "\n",
    "f1 = f1_score(y_true, np.argmax(y_pred, axis=1), average='weighted')\n",
    "print(f\"F1 Score : {f1}\")"
   ]
  },
  {
   "cell_type": "code",
   "execution_count": 12,
   "id": "afb263ca",
   "metadata": {
    "id": "afb263ca",
    "outputId": "98a1bcee-5109-48a5-8265-c3ea9b9a9987",
    "scrolled": true
   },
   "outputs": [
    {
     "name": "stdout",
     "output_type": "stream",
     "text": [
      "Classification Report:\n",
      "              precision    recall  f1-score   support\n",
      "\n",
      "           0       0.36      0.82      0.50       647\n",
      "           1       0.87      0.08      0.14       718\n",
      "           2       0.83      0.52      0.64      1485\n",
      "           3       0.98      0.84      0.90      1124\n",
      "           4       0.67      0.78      0.72       599\n",
      "           5       0.92      0.92      0.92      5903\n",
      "           6       0.66      0.84      0.74       230\n",
      "           7       0.29      0.59      0.39       196\n",
      "           8       0.75      0.37      0.50       814\n",
      "           9       0.80      0.98      0.88      2390\n",
      "\n",
      "    accuracy                           0.79     14106\n",
      "   macro avg       0.71      0.67      0.63     14106\n",
      "weighted avg       0.83      0.79      0.78     14106\n",
      "\n"
     ]
    }
   ],
   "source": [
    "print(\"Classification Report:\")\n",
    "print(classification_report(y_true, np.argmax(y_pred, axis=1)))"
   ]
  },
  {
   "cell_type": "code",
   "execution_count": 13,
   "id": "3f82d2dd",
   "metadata": {
    "id": "3f82d2dd"
   },
   "outputs": [],
   "source": [
    "confusion = confusion_matrix(y_true, np.argmax(y_pred, axis=1))"
   ]
  },
  {
   "cell_type": "code",
   "execution_count": 14,
   "id": "961c2264",
   "metadata": {
    "id": "961c2264",
    "outputId": "5bc6657a-cd72-4f1c-fcb6-b899dc585401"
   },
   "outputs": [
    {
     "data": {
      "image/png": "[encoded data removed]",
      "text/plain": [
       "<Figure size 640x480 with 2 Axes>"
      ]
     },
     "metadata": {},
     "output_type": "display_data"
    }
   ],
   "source": [
    "seaborn.heatmap(confusion, cmap='Greens', annot=True)\n",
    "plt.show()"
   ]
  },
  {
   "cell_type": "code",
   "execution_count": 15,
   "id": "b30678d2",
   "metadata": {
    "id": "b30678d2",
    "outputId": "cfb07abd-c507-4820-9060-2c8970cb38a1",
    "scrolled": false
   },
   "outputs": [
    {
     "name": "stdout",
     "output_type": "stream",
     "text": [
      "INFO:tensorflow:Assets written to: /var/folders/vq/g110rjmd53bg177m6tkp18d00000gn/T/tmp1radfoou/assets\n"
     ]
    },
    {
     "name": "stderr",
     "output_type": "stream",
     "text": [
      "INFO:tensorflow:Assets written to: /var/folders/vq/g110rjmd53bg177m6tkp18d00000gn/T/tmp1radfoou/assets\n",
      "2023-11-25 19:45:47.262585: W tensorflow/compiler/mlir/lite/python/tf_tfl_flatbuffer_helpers.cc:364] Ignored output_format.\n",
      "2023-11-25 19:45:47.262779: W tensorflow/compiler/mlir/lite/python/tf_tfl_flatbuffer_helpers.cc:367] Ignored drop_control_dependency.\n"
     ]
    }
   ],
   "source": [
    "# Save the model in TensorFlow Lite format\n",
    "tflite_model_path = '../models/tinyml_model.tflite'\n",
    "converter = tf.lite.TFLiteConverter.from_keras_model(model)\n",
    "tflite_model = converter.convert()\n",
    "with open(tflite_model_path, 'wb') as f:\n",
    "    f.write(tflite_model)"
   ]
  },
  {
   "cell_type": "code",
   "execution_count": 16,
   "id": "eb057650",
   "metadata": {
    "id": "eb057650"
   },
   "outputs": [],
   "source": [
    "test_dir = '../../dataset/some_data/'"
   ]
  },
  {
   "cell_type": "code",
   "execution_count": 17,
   "id": "e7be07de",
   "metadata": {
    "id": "e7be07de"
   },
   "outputs": [],
   "source": [
    "# Initialize lists to store image paths and labels\n",
    "test_images = []\n",
    "test_labels = []\n",
    "\n",
    "# Loop through class names and corresponding directories\n",
    "for class_name in class_names:\n",
    "    class_dir = os.path.join(test_dir, class_name)\n",
    "    class_images = os.listdir(class_dir)\n",
    "    num_images = len(class_images)\n",
    "\n",
    "    for image_filename in class_images:\n",
    "        image_path = os.path.join(class_dir, image_filename)\n",
    "        label = class_names.index(class_name)\n",
    "\n",
    "        test_images.append(image_path)\n",
    "        test_labels.append(label)"
   ]
  },
  {
   "cell_type": "code",
   "execution_count": 18,
   "id": "32947667",
   "metadata": {
    "id": "32947667",
    "outputId": "e3b34b11-cadf-4ba1-d22d-ef1797b74162",
    "scrolled": false
   },
   "outputs": [
    {
     "name": "stderr",
     "output_type": "stream",
     "text": [
      "INFO: Created TensorFlow Lite XNNPACK delegate for CPU.\n"
     ]
    }
   ],
   "source": [
    "# Load the TFLite model\n",
    "interpreter = tf.lite.Interpreter(model_path=tflite_model_path)\n",
    "interpreter.allocate_tensors()\n",
    "input_details = interpreter.get_input_details()\n",
    "output_details = interpreter.get_output_details()"
   ]
  },
  {
   "cell_type": "code",
   "execution_count": 19,
   "id": "f9cf265b",
   "metadata": {
    "id": "f9cf265b"
   },
   "outputs": [],
   "source": [
    "# Perform inference on a sample image\n",
    "sample_image = tf.keras.preprocessing.image.load_img(\n",
    "    test_images[20], target_size=(299, 299)\n",
    ")"
   ]
  },
  {
   "cell_type": "code",
   "execution_count": 20,
   "id": "02d306bb",
   "metadata": {
    "id": "02d306bb"
   },
   "outputs": [],
   "source": [
    "sample_image = tf.keras.preprocessing.image.img_to_array(sample_image)\n",
    "sample_image = np.expand_dims(sample_image, axis=0).astype(np.float32)\n",
    "interpreter.set_tensor(input_details[0]['index'], sample_image)\n",
    "interpreter.invoke()\n",
    "output = interpreter.get_tensor(output_details[0]['index'])\n",
    "predicted_class = np.argmax(output)"
   ]
  },
  {
   "cell_type": "code",
   "execution_count": 21,
   "id": "07fb98cf",
   "metadata": {
    "id": "07fb98cf",
    "outputId": "08340029-1726-4868-f1ee-11d75394c5af"
   },
   "outputs": [
    {
     "data": {
      "text/plain": [
       "9"
      ]
     },
     "execution_count": 21,
     "metadata": {},
     "output_type": "execute_result"
    }
   ],
   "source": [
    "predicted_class"
   ]
  },
  {
   "cell_type": "code",
   "execution_count": 22,
   "id": "5fe20cad",
   "metadata": {
    "id": "5fe20cad",
    "outputId": "4eddb574-6392-484d-873e-c2c7fef80865"
   },
   "outputs": [
    {
     "name": "stdout",
     "output_type": "stream",
     "text": [
      "Predicted Class: zebra\n"
     ]
    }
   ],
   "source": [
    "# Map the predicted class to the class name\n",
    "predicted_class_name = class_names[predicted_class]\n",
    "\n",
    "print(f\"Predicted Class: {predicted_class_name}\")\n"
   ]
  },
  {
   "cell_type": "code",
   "execution_count": 23,
   "id": "a8ea1128",
   "metadata": {
    "id": "a8ea1128",
    "outputId": "eb29404c-ac67-49de-f7e2-d2a0a6ccdb8c"
   },
   "outputs": [
    {
     "name": "stdout",
     "output_type": "stream",
     "text": [
      "Actual Class: buffalo\n"
     ]
    }
   ],
   "source": [
    "#Compare the predicted label to actual label\n",
    "print(f\"Actual Class: {class_names[test_labels[20]]}\")"
   ]
  },
  {
   "cell_type": "code",
   "execution_count": 25,
   "id": "a3cf4011",
   "metadata": {
    "id": "a3cf4011"
   },
   "outputs": [
    {
     "name": "stdout",
     "output_type": "stream",
     "text": [
      "INFO:tensorflow:Assets written to: /var/folders/vq/g110rjmd53bg177m6tkp18d00000gn/T/tmppyr9zant/assets\n"
     ]
    },
    {
     "name": "stderr",
     "output_type": "stream",
     "text": [
      "INFO:tensorflow:Assets written to: /var/folders/vq/g110rjmd53bg177m6tkp18d00000gn/T/tmppyr9zant/assets\n",
      "/opt/homebrew/lib/python3.11/site-packages/tensorflow/lite/python/convert.py:887: UserWarning: Statistics for quantized inputs were expected, but not specified; continuing anyway.\n",
      "  warnings.warn(\n",
      "2023-11-25 19:47:13.358507: W tensorflow/compiler/mlir/lite/python/tf_tfl_flatbuffer_helpers.cc:364] Ignored output_format.\n",
      "2023-11-25 19:47:13.358560: W tensorflow/compiler/mlir/lite/python/tf_tfl_flatbuffer_helpers.cc:367] Ignored drop_control_dependency.\n",
      "fully_quantize: 0, inference_type: 6, input_inference_type: INT8, output_inference_type: INT8\n"
     ]
    },
    {
     "data": {
      "text/plain": [
       "22557464"
      ]
     },
     "execution_count": 25,
     "metadata": {},
     "output_type": "execute_result"
    }
   ],
   "source": [
    " def representative_dataset_gen():\n",
    "    for i in range(20):\n",
    "        data_x, data_y = test_data.next()\n",
    "        for data_xx in data_x:\n",
    "            data = tf.reshape(data_xx, shape=[-1, 299, 299, 3])\n",
    "            yield [data]\n",
    "converter = tf.lite.TFLiteConverter.from_keras_model(model)\n",
    "converter.optimizations = [tf.lite.Optimize.DEFAULT]\n",
    "converter.representative_dataset = representative_dataset_gen\n",
    "converter.target_spec.supported_ops =[tf.lite.OpsSet.TFLITE_BUILTINS_INT8]\n",
    "converter.inference_input_type  = tf.int8\n",
    "converter.inference_output_type = tf.int8\n",
    "quantized_model = converter.convert()\n",
    "open(\"../models/tinyml_model_quant.tflite\", \"wb\").write(quantized_model)"
   ]
  },
  {
   "cell_type": "code",
   "execution_count": 26,
   "id": "7f48b556",
   "metadata": {},
   "outputs": [
    {
     "name": "stdout",
     "output_type": "stream",
     "text": [
      "input:  <class 'numpy.int8'>\n",
      "output:  <class 'numpy.int8'>\n"
     ]
    }
   ],
   "source": [
    "interpreter = tf.lite.Interpreter(model_content=quantized_model)\n",
    "input_type = interpreter.get_input_details()[0]['dtype']\n",
    "print('input: ', input_type)\n",
    "output_type = interpreter.get_output_details()[0]['dtype']\n",
    "print('output: ', output_type)"
   ]
  },
  {
   "cell_type": "code",
   "execution_count": null,
   "id": "3a6bbc6a",
   "metadata": {},
   "outputs": [],
   "source": []
  }
 ],
 "metadata": {
  "accelerator": "TPU",
  "colab": {
   "provenance": []
  },
  "kernelspec": {
   "display_name": "Python 3 (ipykernel)",
   "language": "python",
   "name": "python3"
  },
  "language_info": {
   "codemirror_mode": {
    "name": "ipython",
    "version": 3
   },
   "file_extension": ".py",
   "mimetype": "text/x-python",
   "name": "python",
   "nbconvert_exporter": "python",
   "pygments_lexer": "ipython3",
   "version": "3.11.4"
  }
 },
 "nbformat": 4,
 "nbformat_minor": 5
}
